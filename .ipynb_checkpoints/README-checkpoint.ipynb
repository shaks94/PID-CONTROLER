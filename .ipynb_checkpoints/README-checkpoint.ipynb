{
 "cells": [
  {
   "cell_type": "markdown",
   "metadata": {},
   "source": [
    "# Driving a Vehicle with PID Control\n",
    "\n",
    "The pid controller is very important and small project \n",
    "the aim of the project is to keep car on track and consitant towards the track \n",
    "------\n",
    "### What does pid stands for \n",
    "\n",
    "PID is starnd for   Proportional-Integral-Derivative Controller\n",
    "\n",
    "The \"P\" for proportional means that the car will steer in proportion to the cross-track error, or CTE. As the car is to the left of the line then you would want to steer to the right and  if it is far to the left of the middle with a high CTE then you want a higher steering angle. \n",
    "The \"I\" for integral sums up all CTEs up to that point, such that too many negative CTEs , i.e car is  back toward the middle, preventing the car from driving on one side of the lane the whole time.\n",
    "The \"D\" for derivate is the change in CTE from one value to the next. This means that  \n",
    "1) if the derivative is quickly changing, the car will correct itself i.e. higher steering angle faster, such as in the case of a curve, and\n",
    "\n",
    "2) if the car is moving outward from the middle, this will cause the steering to get larger as the derivative sign will match the proportional sign, but if the car is moving toward the center (meaning the derivative value will be negative\n",
    "\n",
    "\n",
    "-----\n",
    "\n",
    "### Images from the Project\n",
    "\n",
    "\n",
    "<img src=\"pics/1.png\"  width=\"600\"/>\n",
    "<img src=\"pics/2.png\"  width=\"600\"/>\n",
    "<img src=\"pics/3.png\"  width=\"600\"/>\n",
    "<img src=\"pics/4.png\"  width=\"600\"/>\n",
    "\n",
    "\n"
   ]
  },
  {
   "cell_type": "code",
   "execution_count": null,
   "metadata": {},
   "outputs": [],
   "source": []
  }
 ],
 "metadata": {
  "kernelspec": {
   "display_name": "Python [conda env:self_driving]",
   "language": "python",
   "name": "conda-env-self_driving-py"
  },
  "language_info": {
   "codemirror_mode": {
    "name": "ipython",
    "version": 3
   },
   "file_extension": ".py",
   "mimetype": "text/x-python",
   "name": "python",
   "nbconvert_exporter": "python",
   "pygments_lexer": "ipython3",
   "version": "3.6.4"
  }
 },
 "nbformat": 4,
 "nbformat_minor": 2
}
